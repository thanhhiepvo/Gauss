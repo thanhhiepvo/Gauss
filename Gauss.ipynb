{
 "cells": [
  {
   "cell_type": "markdown",
   "id": "87312e30",
   "metadata": {},
   "source": [
    "### Fullname: Võ Thanh Hiệp\n",
    "### Student ID: 21127275\n",
    "### Class: 21CLC03"
   ]
  },
  {
   "cell_type": "code",
   "execution_count": 2,
   "id": "99446ba7",
   "metadata": {},
   "outputs": [],
   "source": [
    "def printMatrix(Matrix):\n",
    "    nRow = len(Matrix)\n",
    "    print('[', end=\"\")\n",
    "    for i in range(nRow - 1):\n",
    "        print(Matrix[i])\n",
    "    print(Matrix[nRow - 1], end=\"\")\n",
    "    print(']')"
   ]
  },
  {
   "cell_type": "code",
   "execution_count": 3,
   "id": "10bc32c3",
   "metadata": {},
   "outputs": [],
   "source": [
    "### Reducing all values in row by dividing them by the lead element in that row.\n",
    "\n",
    "def divideRowWithTheLeadElement(Row, leadPosition, n):\n",
    "    dividend = Row[leadPosition]\n",
    "    for i in range(leadPosition, n):\n",
    "        Row[i] /=  dividend"
   ]
  },
  {
   "cell_type": "code",
   "execution_count": 4,
   "id": "c76dc12a",
   "metadata": {},
   "outputs": [],
   "source": [
    "### If the cell at A[cellRow][cellColumn] = 0. Finding the cell below it that different from value 0.\n",
    "\n",
    "def findLeadPositionBelowCellInColumn(Matrix, cellRow, cellColumn, nRow):\n",
    "    for i in range(cellRow + 1, nRow):\n",
    "        if Matrix[i][cellColumn] != 0:\n",
    "            return i\n",
    "    return nRow"
   ]
  },
  {
   "cell_type": "code",
   "execution_count": 5,
   "id": "ce197ec8",
   "metadata": {},
   "outputs": [],
   "source": [
    "\"\"\"\n",
    "When the lead element is found out. Of course, it values will be 1. In the column includes this cell, \n",
    "make all cells above and below it to 0.\n",
    "\"\"\"\n",
    "\n",
    "def clearColumnIncludeLeadElement(Matrix, cellRow, cellColumn, nRow, nColumn):\n",
    "    for i in range(cellRow + 1, nRow):\n",
    "        rate = Matrix[i][cellColumn] / Matrix[cellRow][cellColumn]\n",
    "        for j in range(cellColumn, nColumn):\n",
    "            Matrix[i][j] -= rate * Matrix[cellRow][j]\n",
    "    \n",
    "    for i in range(cellRow):\n",
    "        rate = Matrix[i][cellColumn] / Matrix[cellRow][cellColumn]\n",
    "        for j in range(cellColumn, nColumn):\n",
    "            Matrix[i][j] -= rate * Matrix[cellRow][j]"
   ]
  },
  {
   "cell_type": "code",
   "execution_count": 6,
   "id": "3516afd0",
   "metadata": {},
   "outputs": [],
   "source": [
    "def Gauss_elimination(A):\n",
    "    Matrix = A\n",
    "    nRow = len(Matrix)\n",
    "    nColumn = len(Matrix[0])\n",
    "    \n",
    "    j = 0\n",
    "    for i in range(nColumn):\n",
    "        if Matrix[j][i] == 0:\n",
    "            rowSwitch = findLeadPositionBelowCellInColumn(Matrix, j, i, nRow)\n",
    "            if rowSwitch == nRow:\n",
    "                continue\n",
    "            Matrix[j], Matrix[rowSwitch] = Matrix[rowSwitch], Matrix[j]\n",
    "        \n",
    "        divideRowWithTheLeadElement(Matrix[j], i, nColumn)\n",
    "        clearColumnIncludeLeadElement(Matrix, j, i, nRow, nColumn)\n",
    "        \n",
    "        j += 1\n",
    "        if j == nRow:\n",
    "            break\n",
    "    \n",
    "    return Matrix"
   ]
  },
  {
   "cell_type": "code",
   "execution_count": 7,
   "id": "6287a265",
   "metadata": {},
   "outputs": [],
   "source": [
    "def isZeroRow(row):\n",
    "    length = len(row)\n",
    "    for i in range(length):\n",
    "        if row[i] != 0:\n",
    "            return False;\n",
    "    return True"
   ]
  },
  {
   "cell_type": "code",
   "execution_count": 8,
   "id": "ca4255bc",
   "metadata": {},
   "outputs": [],
   "source": [
    "def isTheColumnHasFreeVariable(Matrix, theColumn, nRow):\n",
    "    for i in range(nRow):\n",
    "        if Matrix[i][theColumn] == 1:\n",
    "            return False\n",
    "    return True"
   ]
  },
  {
   "cell_type": "code",
   "execution_count": 9,
   "id": "d71f1324",
   "metadata": {},
   "outputs": [],
   "source": [
    "def isNoSolution(Augmented_Matrix, nRow, nColumn):\n",
    "    for i in reversed(range(nRow)):\n",
    "        for j in range(nColumn - 1):\n",
    "            if Augmented_Matrix[i][j] != 0:\n",
    "                return False\n",
    "        if Augmented_Matrix[i][nColumn - 1] != 0:\n",
    "            return True\n",
    "    return False"
   ]
  },
  {
   "cell_type": "code",
   "execution_count": 10,
   "id": "904ed6d2",
   "metadata": {},
   "outputs": [],
   "source": [
    "def isOneSolution(Augmented_Matrix, nRow, nColumn):\n",
    "    if nRow < nColumn - 1:\n",
    "        return False\n",
    "    for i in range(nRow):\n",
    "        for j in range(i):\n",
    "            if Augmented_Matrix[i][j] != 0:\n",
    "                return False\n",
    "        for j in range(i + 1, nColumn - 1):\n",
    "            if Augmented_Matrix[i][j] != 0:\n",
    "                return False\n",
    "    return True"
   ]
  },
  {
   "cell_type": "code",
   "execution_count": 11,
   "id": "76ee0016",
   "metadata": {},
   "outputs": [],
   "source": [
    "def back_substitution(A):\n",
    "    nRow = len(A)\n",
    "    nColumn = len(A[0])\n",
    "    Augmented_Matrix = A\n",
    "    \n",
    "    Augmented_Matrix = Gauss_elimination(Augmented_Matrix)\n",
    "    \n",
    "    solutions = []\n",
    "    if isNoSolution(Augmented_Matrix, nRow, nColumn) == True:\n",
    "        return 'No Solution', solutions\n",
    "    \n",
    "    if isOneSolution(Augmented_Matrix, nRow, nColumn) == True:\n",
    "        while isZeroRow(Augmented_Matrix[nRow - 1]) == True:\n",
    "            nRow -= 1\n",
    "        for i in range(nRow):\n",
    "            solutions.append(Augmented_Matrix[i][nColumn - 1])\n",
    "        return 'One Solution', solutions\n",
    "    \n",
    "    nAscii = 97\n",
    "    countTemp = 0\n",
    "    for i in range(nColumn - 1):\n",
    "        if isTheColumnHasFreeVariable(Augmented_Matrix, i, nRow) == True:\n",
    "            solutions.append(chr(nAscii))\n",
    "            nAscii += 1\n",
    "        else:\n",
    "            solutions.append('temp')\n",
    "            countTemp += 1\n",
    "            \n",
    "    for i in range(countTemp):\n",
    "        leadPosition = 0\n",
    "        while Augmented_Matrix[i][leadPosition] != 1:\n",
    "            leadPosition += 1\n",
    "            \n",
    "        solution = str(Augmented_Matrix[i][nColumn - 1])\n",
    "        for j in range(leadPosition + 1, nColumn - 1):\n",
    "            if solutions[j] == 'temp':\n",
    "                continue\n",
    "            if Augmented_Matrix[i][j] < 0:\n",
    "                solution += ' + ' + str(-Augmented_Matrix[i][j]) + solutions[j]\n",
    "            elif Augmented_Matrix[i][j] > 0:\n",
    "                solution += ' - ' + str(Augmented_Matrix[i][j]) + solutions[j]\n",
    "        solutions[leadPosition] = solution\n",
    "    \n",
    "    return 'Infinitely Many Solutions', solutions"
   ]
  },
  {
   "cell_type": "code",
   "execution_count": 16,
   "id": "fa7f78fd",
   "metadata": {},
   "outputs": [
    {
     "name": "stdout",
     "output_type": "stream",
     "text": [
      "Gauss Elimination:\n",
      "[[1.0, 2.0, 3.0, 4.0]]\n",
      "\n",
      "Back Substitution:\n",
      "Infinitely Many Solutions\n",
      "['4.0 - 2.0a - 3.0b', 'a', 'b']\n"
     ]
    }
   ],
   "source": [
    "A = [[1, 2, 3, 4]]\n",
    "\n",
    "print('Gauss Elimination:')\n",
    "printMatrix(Gauss_elimination(A))\n",
    "\n",
    "print()\n",
    "print('Back Substitution:')\n",
    "result, solutions = back_substitution(A)\n",
    "print(result)\n",
    "print(solutions)"
   ]
  },
  {
   "cell_type": "markdown",
   "id": "29329f07",
   "metadata": {},
   "source": [
    "# Algorithms\n",
    "\n",
    "## Gauss Elimination\n",
    "#### Let a matrix A with m rows and n columns.\n",
    "#### Variable checkRow is the lead element in each row, also the pivot element in column.\n",
    "  - **Step 1:** Let checkRow = 0.\n",
    "  - **Step 2:** Trace from the first column to the last column.\n",
    "  - **Step 3:** If the column is checking that is zero column (all cell in this column value 0), pass this column and reach to the next column.\n",
    "  - **Step 4:** Otherwise, check if the first element in this column is 1. If not, divide each element in this column by the lead element and increase checkRow by 1.\n",
    "  - **Step 5:** In each column is not zero column, make all cell above and below the pivot element 0. The method:\n",
    "       -  **Step 5.1:** Let rate = (the cell X is needed making 0) / (the pivot element value)\n",
    "       -  **Step 5.2:** Subtract each cell in the row includes cell X by result from product rate by each corresponding cell in the row includes pivot element.\n",
    "  - **Step 6:** End.\n",
    "\n",
    "## Back substitution\n",
    "#### Let a matrix A with m rows and n columns.\n",
    "#### Let a row belong the column B with m rows.\n",
    "#### Let a augmented matrix Augmented_Matrix (called MA) combination A and B appended in the right.\n",
    "  - **Step 1:** Use the Gauss Elimination above to reducing the complex of MA.\n",
    "  - **Step 2:** If MA has any row that the first (n - 1) cell value 0 and the last cell value differs 0. Conclude the matrix result is No Solution. Go to Step 5.\n",
    "  - **Step 3:** If MA excepts the last Columns is Identity matrix. Conclude the matrix result is One Solution and there are m cell of B belong the row. Go to Step 5\n",
    "  - **Step 4:** Otherwise, the result of matrix A is Infinitely Many Solutions. Trace from the first column to the last column, if the column is checking that do not include any cell values 1, the solution in this column is free variable. Solve other solutions by going back from last row to first row, replace each corresponding value of upper row from bottom row.\n",
    "  - **Step 5:** End."
   ]
  },
  {
   "cell_type": "code",
   "execution_count": null,
   "id": "6365104e",
   "metadata": {},
   "outputs": [],
   "source": []
  }
 ],
 "metadata": {
  "kernelspec": {
   "display_name": "Python 3 (ipykernel)",
   "language": "python",
   "name": "python3"
  },
  "language_info": {
   "codemirror_mode": {
    "name": "ipython",
    "version": 3
   },
   "file_extension": ".py",
   "mimetype": "text/x-python",
   "name": "python",
   "nbconvert_exporter": "python",
   "pygments_lexer": "ipython3",
   "version": "3.10.9"
  }
 },
 "nbformat": 4,
 "nbformat_minor": 5
}
